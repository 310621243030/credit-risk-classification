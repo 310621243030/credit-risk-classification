{
 "cells": [
  {
   "cell_type": "code",
   "execution_count": 20,
   "id": "9d47201e",
   "metadata": {},
   "outputs": [
    {
     "name": "stdout",
     "output_type": "stream",
     "text": [
      "Accuracy: 0.995\n",
      "\n",
      "Classification Report:\n",
      "               precision    recall  f1-score   support\n",
      "\n",
      "           0       1.00      0.98      0.99        41\n",
      "           1       0.99      1.00      1.00       159\n",
      "\n",
      "    accuracy                           0.99       200\n",
      "   macro avg       1.00      0.99      0.99       200\n",
      "weighted avg       1.00      0.99      0.99       200\n",
      "\n"
     ]
    }
   ],
   "source": [
    "import pandas as pd\n",
    "import numpy as np\n",
    "from sklearn.preprocessing import LabelEncoder, StandardScaler\n",
    "from sklearn.model_selection import train_test_split\n",
    "from sklearn.ensemble import RandomForestClassifier\n",
    "from sklearn.metrics import classification_report, accuracy_score\n",
    "\n",
    "# Load the dataset from local CSV file\n",
    "df = pd.read_csv('german_credit_data.csv')\n",
    "\n",
    "# Preprocessing: Convert categorical columns to numeric using LabelEncoder\n",
    "le = LabelEncoder()\n",
    "\n",
    "# Apply LabelEncoder to other categorical columns\n",
    "df['Sex'] = le.fit_transform(df['Sex'].astype(str))  # Male/Female to 0/1\n",
    "df['Housing'] = le.fit_transform(df['Housing'].astype(str))  # Own/Rent/Free to 0/1/2\n",
    "df['Purpose'] = le.fit_transform(df['Purpose'].astype(str))  # Purpose categories to numeric values\n",
    "\n",
    "# Handle 'Saving accounts' manually since it contains non-numeric values\n",
    "saving_accounts_map = {\n",
    "    'little': 0,\n",
    "    'moderate': 1,\n",
    "    'quite rich': 2,\n",
    "    'rich': 3\n",
    "}\n",
    "df['Saving accounts'] = df['Saving accounts'].map(saving_accounts_map)\n",
    "\n",
    "# Handle 'Checking account' manually (if needed) as it contains numeric or NaN values\n",
    "checking_accounts_map = {\n",
    "    'little': 0,\n",
    "    'moderate': 1,\n",
    "    'rich': 2\n",
    "}\n",
    "df['Checking account'] = df['Checking account'].map(checking_accounts_map)\n",
    "\n",
    "# Handle missing values in 'Checking account' column (if any)\n",
    "df['Checking account'].fillna(df['Checking account'].mean(), inplace=True)\n",
    "\n",
    "# Create pseudo-labels for good and bad credit based on custom rules\n",
    "def assign_credit_risk(row):\n",
    "    # Rule for bad credit risk (0)\n",
    "    if row['Credit amount'] > 3000 and row['Duration'] > 12 and row['Saving accounts'] <= 1:\n",
    "        return 0  # bad credit\n",
    "    # Rule for good credit risk (1)\n",
    "    elif row['Credit amount'] <= 3000 and row['Duration'] <= 12 and row['Saving accounts'] >= 2:\n",
    "        return 1  # good credit\n",
    "    else:\n",
    "        return 1  # default to good credit for cases not covered explicitly\n",
    "\n",
    "# Apply the rule to create the 'Credit risk' column\n",
    "df['Credit risk'] = df.apply(assign_credit_risk, axis=1)\n",
    "\n",
    "# Features and target\n",
    "X = df.drop(columns=['Credit risk', 'Unnamed: 0'])  # Drop the target and index columns\n",
    "y = df['Credit risk']\n",
    "\n",
    "# Check for NaN values in features (X) and handle them\n",
    "if X.isnull().any().any():\n",
    "    X.fillna(X.mean(), inplace=True)  # Fill NaN values with column mean\n",
    "\n",
    "# Scale the features\n",
    "scaler = StandardScaler()\n",
    "X_scaled = scaler.fit_transform(X)\n",
    "\n",
    "# Train-test split\n",
    "X_train, X_test, y_train, y_test = train_test_split(X_scaled, y, test_size=0.2, random_state=42)\n",
    "\n",
    "# Train the model using Random Forest Classifier\n",
    "model = RandomForestClassifier(random_state=42)\n",
    "model.fit(X_train, y_train)\n",
    "\n",
    "# Predict and evaluate the model\n",
    "y_pred = model.predict(X_test)\n",
    "print(\"Accuracy:\", accuracy_score(y_test, y_pred))\n",
    "print(\"\\nClassification Report:\\n\", classification_report(y_test, y_pred))\n"
   ]
  },
  {
   "cell_type": "code",
   "execution_count": 21,
   "id": "c39fe729",
   "metadata": {},
   "outputs": [
    {
     "data": {
      "image/png": "[encoded data removed]",
      "text/plain": [
       "<Figure size 432x288 with 1 Axes>"
      ]
     },
     "metadata": {
      "needs_background": "light"
     },
     "output_type": "display_data"
    }
   ],
   "source": [
    "import matplotlib.pyplot as plt\n",
    "\n",
    "# Count the occurrences of each class (good and bad credit risk)\n",
    "credit_risk_counts = df['Credit risk'].value_counts()\n",
    "\n",
    "# Plot the bar chart\n",
    "plt.figure(figsize=(6, 4))\n",
    "credit_risk_counts.plot(kind='bar', color=['red', 'green'])\n",
    "\n",
    "# Add title and labels\n",
    "plt.title('Distribution of Good and Bad Credit Risk')\n",
    "plt.xlabel('Credit Risk')\n",
    "plt.ylabel('Number of Instances')\n",
    "plt.xticks([0, 1], ['Bad Credit (0)', 'Good Credit (1)'], rotation=0)\n",
    "\n",
    "# Show the plot\n",
    "plt.show()\n"
   ]
  }
 ],
 "metadata": {
  "kernelspec": {
   "display_name": "Python 3 (ipykernel)",
   "language": "python",
   "name": "python3"
  },
  "language_info": {
   "codemirror_mode": {
    "name": "ipython",
    "version": 3
   },
   "file_extension": ".py",
   "mimetype": "text/x-python",
   "name": "python",
   "nbconvert_exporter": "python",
   "pygments_lexer": "ipython3",
   "version": "3.9.7"
  }
 },
 "nbformat": 4,
 "nbformat_minor": 5
}
